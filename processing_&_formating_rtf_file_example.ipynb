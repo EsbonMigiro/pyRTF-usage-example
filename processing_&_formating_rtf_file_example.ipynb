{
 "cells": [
  {
   "cell_type": "code",
   "execution_count": 13,
   "metadata": {},
   "outputs": [
    {
     "name": "stdout",
     "output_type": "stream",
     "text": [
      "[' 1:2 And the earth was without form, and void; and darkness was upon the face of the deep. And the Spirit of God moved upon the face of the waters.', ' 1:3 And God said, Let there be light: and there was light.', ' 1:4 And God saw the light, that it was good: and God divided the light from the darkness.', ' 1:5 And God called the light Day, and the darkness he called Night. And the evening and the morning were the first day.']\n",
      "Processing complete.\n"
     ]
    }
   ],
   "source": [
    "import os\n",
    "from PyRTF import Document, Renderer, Section, Paragraph, TEXT\n",
    "\n",
    "def identify_verses(line):\n",
    "\n",
    "    verses = []\n",
    "    parts = line.split()  \n",
    "#     print(parts)\n",
    "    verse_number = None\n",
    "    verse_text = []\n",
    "\n",
    "    for part in parts:\n",
    "        if part.isdigit(): \n",
    "            if verse_number is not None:  \n",
    "                verses.append((verse_number, ' '.join(verse_text)))  \n",
    "            verse_number = int(part)  \n",
    "            verse_text = []  \n",
    "        else:\n",
    "            verse_text.append(part) \n",
    "\n",
    "    if verse_number is not None:\n",
    "        verses.append((verse_number, ' '.join(verse_text)))\n",
    "    \n",
    "    \n",
    "    return verses\n",
    "\n",
    "def extract_chapter_and_verse(text):\n",
    "    lines = text.splitlines()\n",
    "#     print(lines)\n",
    "    formatted_lines = []\n",
    "    current_chapter = 1\n",
    "    current_book = \"\"  \n",
    "\n",
    "    for line in lines:\n",
    "        line = line.strip()  \n",
    "#         print(lines)\n",
    "\n",
    "\n",
    "        \n",
    "        if line.startswith(\"Chapter\"):  \n",
    "            current_chapter += 1\n",
    "            continue\n",
    "\n",
    "        verses = identify_verses(line)\n",
    "        for verse_number, verse in verses:\n",
    "            formatted_lines.append(\"{} {}:{} {}\".format(current_book, current_chapter, verse_number, verse))\n",
    "    return formatted_lines\n",
    "\n",
    "def process_rtf_file(file_path):\n",
    "    with open(file_path, 'r') as file:\n",
    "        rtf_content = file.read()\n",
    "    \n",
    "    book_name = os.path.basename(file_path).split('.')[0]  \n",
    "    formatted_lines = extract_chapter_and_verse(rtf_content)\n",
    "\n",
    "    return formatted_lines, book_name\n",
    "\n",
    "def save_output(book_name, formatted_lines):\n",
    "    output_file_name = \"{}_formatted.txt\".format(book_name)\n",
    "    with open(output_file_name, 'w') as output_file:\n",
    "        for line in formatted_lines:\n",
    "            output_file.write(line + \"\\n\")\n",
    "\n",
    "if __name__ == \"__main__\":\n",
    "    rtf_file = \"file.rtf\"  \n",
    "    formatted_lines, book_name = process_rtf_file(rtf_file)\n",
    "    save_output(book_name, formatted_lines)\n",
    "\n",
    "    print(\"Processing complete.\")\n"
   ]
  }
 ],
 "metadata": {
  "kernelspec": {
   "display_name": "Python 2",
   "language": "python",
   "name": "python2"
  },
  "language_info": {
   "codemirror_mode": {
    "name": "ipython",
    "version": 2
   },
   "file_extension": ".py",
   "mimetype": "text/x-python",
   "name": "python",
   "nbconvert_exporter": "python",
   "pygments_lexer": "ipython2",
   "version": "2.7.18"
  }
 },
 "nbformat": 4,
 "nbformat_minor": 2
}
